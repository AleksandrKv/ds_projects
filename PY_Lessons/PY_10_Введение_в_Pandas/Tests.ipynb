{
 "cells": [
  {
   "cell_type": "code",
   "execution_count": 22,
   "metadata": {},
   "outputs": [
    {
     "data": {
      "text/plain": [
       "0.5485489925892852"
      ]
     },
     "execution_count": 22,
     "metadata": {},
     "output_type": "execute_result"
    }
   ],
   "source": [
    "import numpy as np\n",
    "a = np.array([23, 34, 27])\n",
    "b = np.array([-54, 1,  46])\n",
    "c = np.array([46, 68, 54])\n",
    "\n",
    "l1 = np.linalg.norm(a)+np.linalg.norm(b)-np.linalg.norm(a+b)\n",
    "l2 = np.linalg.norm(b)+np.linalg.norm(c)-np.linalg.norm(b+c)\n",
    "l3 = np.linalg.norm(c)+np.linalg.norm(a)-np.linalg.norm(c+a)\n",
    "\n",
    "# d1 = np.linalg.norm(a-b)\n",
    "# d2 = np.linalg.norm(b-c)\n",
    "# d3 = np.linalg.norm(c-a)\n",
    "\n",
    "d1 = np.dot(a,b)\n",
    "d2 = np.dot(b,c)\n",
    "d3 = np.dot(c,a)\n",
    "d1,d2,d3\n",
    "np.iinfo(np.int16)\n",
    "elem=np.nan\n",
    "np.isnan(elem)\n",
    "elem is np.nan \n",
    "np.random.rand()\n"
   ]
  },
  {
   "cell_type": "code",
   "execution_count": 1,
   "metadata": {},
   "outputs": [
    {
     "data": {
      "text/plain": [
       "18446744073709551616"
      ]
     },
     "execution_count": 1,
     "metadata": {},
     "output_type": "execute_result"
    }
   ],
   "source": [
    "2**64\n"
   ]
  },
  {
   "cell_type": "code",
   "execution_count": null,
   "metadata": {},
   "outputs": [],
   "source": []
  }
 ],
 "metadata": {
  "interpreter": {
   "hash": "fa7101e1e1ee3ae4bb10ad32c530cd9a5b0e50fd40fba62a7aee72638d4b75ed"
  },
  "kernelspec": {
   "display_name": "Python 3.9.10 64-bit (system)",
   "language": "python",
   "name": "python3"
  },
  "language_info": {
   "codemirror_mode": {
    "name": "ipython",
    "version": 3
   },
   "file_extension": ".py",
   "mimetype": "text/x-python",
   "name": "python",
   "nbconvert_exporter": "python",
   "pygments_lexer": "ipython3",
   "version": "3.9.10"
  },
  "orig_nbformat": 4
 },
 "nbformat": 4,
 "nbformat_minor": 2
}
