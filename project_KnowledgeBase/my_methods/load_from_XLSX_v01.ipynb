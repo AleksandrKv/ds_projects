{
 "cells": [
  {
   "cell_type": "code",
   "execution_count": null,
   "metadata": {},
   "outputs": [],
   "source": [
    "# https://pythonist.ru/kak-chitat-excel-fajl-xlsx-v-python/\n",
    "\n",
    "# Последняя версия этой библиотеки, к сожалению, не поддерживает Excel-файлы с расширением .xlsx. \n",
    "# Поэтому устанавливаем версию 1.2.0. Выполните следующую команду в терминале:\n",
    "# pip install xlrd==1.2.0\n",
    "\n",
    "# !!! эта версия у меня тоже не стала чиать xlsx, формат xls вроде читает\n",
    "\n",
    "import xlrd\n",
    "\n",
    "# import os\n",
    "# os.getcwd()\n",
    "\n",
    "# Open the Workbook\n",
    "workbook = xlrd.open_workbook(\"test.xlsx\")\n",
    "# Open the worksheet\n",
    "worksheet = workbook.sheet_by_index(0)\n",
    "# Iterate the rows and columns\n",
    "for i in range(0, 5):\n",
    "    for j in range(0, 3):\n",
    "        # Print the cell values with tab space\n",
    "        print(worksheet.cell_value(i, j), end='\\t')\n",
    "    print('')"
   ]
  }
 ],
 "metadata": {
  "interpreter": {
   "hash": "fa7101e1e1ee3ae4bb10ad32c530cd9a5b0e50fd40fba62a7aee72638d4b75ed"
  },
  "kernelspec": {
   "display_name": "Python 3.9.10 64-bit (system)",
   "language": "python",
   "name": "python3"
  },
  "language_info": {
   "codemirror_mode": {
    "name": "ipython",
    "version": 3
   },
   "file_extension": ".py",
   "mimetype": "text/x-python",
   "name": "python",
   "nbconvert_exporter": "python",
   "pygments_lexer": "ipython3",
   "version": "3.9.10"
  },
  "orig_nbformat": 4
 },
 "nbformat": 4,
 "nbformat_minor": 2
}
