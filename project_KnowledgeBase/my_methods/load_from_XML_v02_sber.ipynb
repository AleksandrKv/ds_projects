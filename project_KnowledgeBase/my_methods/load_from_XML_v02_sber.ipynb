{
 "cells": [
  {
   "cell_type": "code",
   "execution_count": 8,
   "metadata": {},
   "outputs": [
    {
     "name": "stdout",
     "output_type": "stream",
     "text": [
      "<Element '{urn:schemas-microsoft-com:office:office}DocumentProperties' at 0x00000166B2760D10>\n",
      "<Element '{urn:schemas-microsoft-com:office:excel}ExcelWorkbook' at 0x00000166B2760E00>\n",
      "<Element '{urn:schemas-microsoft-com:office:spreadsheet}Styles' at 0x00000166B2760CC0>\n",
      "<Element '{urn:schemas-microsoft-com:office:spreadsheet}Worksheet' at 0x00000166B27433B0>\n"
     ]
    }
   ],
   "source": [
    "import xml.etree.ElementTree as ET\n",
    "import pandas as pd\n",
    "import datetime as dt\n",
    "import my_methods as mm\n",
    "\n",
    "xlm = ET.parse('test.xml')\n",
    "tag_root = xlm.getroot()\n",
    "for tag in tag_root:\n",
    "    print(tag)\n",
    "\n",
    "level =   '{urn:schemas-microsoft-com:office:spreadsheet}Worksheet'\n",
    "level += '/{urn:schemas-microsoft-com:office:spreadsheet}Table'\n",
    "level += '/{urn:schemas-microsoft-com:office:spreadsheet}Row'\n"
   ]
  },
  {
   "cell_type": "code",
   "execution_count": null,
   "metadata": {},
   "outputs": [],
   "source": [
    "# Print rows\n",
    "for i_row, tag_row in enumerate(tag_root.findall(level)):\n",
    "    print('row ', i_row, '-----------------', tag_row)\n",
    "    for text in tag_row.itertext():\n",
    "        print(text)"
   ]
  },
  {
   "cell_type": "code",
   "execution_count": 22,
   "metadata": {},
   "outputs": [
    {
     "data": {
      "text/plain": [
       "(datetime.datetime(2022, 3, 1, 0, 0), datetime.datetime(2022, 3, 31, 0, 0))"
      ]
     },
     "execution_count": 22,
     "metadata": {},
     "output_type": "execute_result"
    }
   ],
   "source": [
    "import datetime\n",
    "\n",
    "# d1, d2\n",
    "text = 'Итого по операциям с 01.03.2022 по 31.03.2022'\n",
    "i1 = text.find(' с ') + 3\n",
    "i2 = text.find(' по ') + 4\n",
    "if len(text) < 45: # len(text)=45\n",
    "    print('error_text')\n",
    "t1 = text[21:31]\n",
    "t2 = text[35:45]\n",
    "d1 = datetime.datetime.strptime(t1, '%d.%m.%Y')\n",
    "d2 = datetime.datetime.strptime(t2, '%d.%m.%Y')\n",
    "d1,d2"
   ]
  },
  {
   "cell_type": "code",
   "execution_count": 7,
   "metadata": {},
   "outputs": [
    {
     "name": "stdout",
     "output_type": "stream",
     "text": [
      "[3432.97, 337.94, 129334.64, 126239.61]\n"
     ]
    }
   ],
   "source": [
    "# def \n",
    "# res = {}\n",
    "# rows = []\n",
    "\n",
    "# flag1_mark = False  # Найти текст 'Карта'\n",
    "# flag2_mark = False  # Найти метку карты, найти идентификатор метки базе данных\n",
    "# flag3 = False  # Найти текст 'Карта'\n",
    "# flag_break = False\n",
    "# for i_row, tag_row in enumerate(tag_root.findall(level)):\n",
    "#     if i_row == 7:\n",
    "#         for text in enumerate(tag_row.itertext()):\n",
    "#             res['period'] = text  # Итого по операциям с 01.03.2022 по 31.03.2022\n",
    "#             break                 # д.б. единственная строка\n",
    "#     if i_row == 9:\n",
    "#         amounts = []\n",
    "#         for i, t1 in enumerate(tag_row.itertext()):\n",
    "#             if i >= 4: break       \n",
    "#             mm     \n",
    "#             t2 = str.replace(t1, ' ', '')\n",
    "#             t3 = str.replace(t2, ',', '.')\n",
    "#             try: amount = float(t3)\n",
    "#             except: amount = None\n",
    "#             amounts.append(amount)\n",
    "            \n",
    "#         print(amounts)\n",
    "#     elif i_row >= 19:        \n",
    "\n",
    "#         row = []\n",
    "#         for i_cel, tag in enumerate(tag_row.findall('{urn:schemas-microsoft-com:office:spreadsheet}Cell')):            \n",
    "#             if i_cel > 7: break\n",
    "#             text = ''\n",
    "#             for t in tag.itertext():\n",
    "#                 text = t\n",
    "#             row.append(text)\n",
    "#         # row.insert(0, len(row))\n",
    "#         if len(row) == 8:\n",
    "#             rows.append(row)\n",
    "\n",
    "    \n",
    "\n",
    "    # # print('---------------------------')\n",
    "    # if flag2_mark:\n",
    "    #     print('row ', i_row, '-----------------', tag_row)\n",
    "    #     # for tag in tag_row:\n",
    "    #         # print(tag, tag.text)\n",
    "    #     for text in tag_row.itertext():\n",
    "    #         print(text)\n",
    "    # else:\n",
    "    #     if flag1_mark:            \n",
    "    #         # Найти метку карты, найти идентификатор метки базе данных\n",
    "    #         # texts = tag_row.itertext()\n",
    "\n",
    "    #         flag_break = True\n",
    "    #         for i, text in  enumerate(tag_row.itertext()):\n",
    "    #             # Получить ID из БД\n",
    "    #             card_mark = text\n",
    "    #             print(i, text)\n",
    "    #             break\n",
    "    #         flag2_mark = True\n",
    "    #         flag_break = False\n",
    "\n",
    "    #     else:\n",
    "    #         for text in tag_row.itertext():\n",
    "    #             if text == 'Карта':\n",
    "    #                 flag1_mark = True\n",
    "    #                 break\n",
    "    # if flag_break:\n",
    "    #     break\n",
    "\n",
    "\n",
    "    # print(text)\n",
    "\n",
    "#     print(tag, tag.text)\n",
    "#     for tag2 in tag:\n",
    "#         print('  - ', tag2, tag2.text)\n"
   ]
  },
  {
   "cell_type": "code",
   "execution_count": 41,
   "metadata": {},
   "outputs": [],
   "source": [
    "import my_methods as mm\n",
    "\n",
    "# for row in rows:\n",
    "#     print(row)\n",
    "columns=[\"Date\", \"Time\", \"ccccc\", \"Name\", \"zzzzz\", \"Amount\", \"fffff\", \"Balance\"]\n",
    "df = pd.DataFrame(columns=columns, data=rows)\n",
    "df[\"Amount_num\"] = df.Amount.apply(mm.text_to_float)\n",
    "df[\"Balance_num\"] = df.Balance.apply(mm.text_to_float)\n",
    "df.to_csv('test_out1.csv', sep=';', decimal=',', encoding='cp1251')\n",
    "\n",
    "len1 = len(rows)\n",
    "if len1%2 != 0:\n",
    "    error_text = f'Не четное количество строк в таблице: {len1}'\n",
    "    print(error_text)\n",
    "\n",
    "#   Date\t    Time  ...   Name\t...\t         Amount\t....\tBalance\tAmount_num\tBalance_num\n",
    "# 0\t2022-03-31\t15:44\t\tПеревод с карты\t\t5 000,00\t\t337.94\t5000.00\t337.94\n",
    "# 1\t2022-03-31\t202880\t\tSBOL перевод 2202****6497 В. СЕРГЕЙ СЕРГЕЕВИЧ\t\t\t\t\tNaN\tNaN\n",
    "\n",
    "rows2 = []\n",
    "for i1 in range(0, len1, 2):\n",
    "    r1 = rows[i1]\n",
    "    r2 = rows[i1+1]    \n",
    "    row = []\n",
    "    \n",
    "    # date = DateTimeField()\n",
    "    val = dt.datetime.strptime(r1[0] + ' ' + r1[1], '%Y-%m-%d %H:%M')\n",
    "    row.append(val)\n",
    "\n",
    "    # date_account = DateTimeField(null=True)    \n",
    "    val = dt.datetime.strptime(r2[0], '%Y-%m-%d')\n",
    "    row.append(val)\n",
    "\n",
    "    # category = CharField(null=True) \n",
    "    val = r1[3]\n",
    "    row.append(val)\n",
    "\n",
    "    # name = CharField(null=True)\n",
    "    val = r2[3]\n",
    "    row.append(val)\n",
    "\n",
    "    # amount = FloatField()\n",
    "    st = r1[5]\n",
    "    val = mm.text_to_float(st) if st[0] == '+' else -mm.text_to_float(st)\n",
    "    row.append(val)\n",
    "\n",
    "    # balance\n",
    "    val = mm.text_to_float(r1[7])\n",
    "    row.append(val)\n",
    "\n",
    "    # Сохранить в список \n",
    "    rows2.append(row)\n",
    "\n",
    "columns2=[\"date\", \"date_account\", \"category\", \"name\", \"amount\", \"balance\"]\n",
    "df = pd.DataFrame(columns=columns2, data=rows2).sort_values(by='date')\n",
    "df.to_csv('test_out2.csv', sep=';', decimal=',', encoding='cp1251')\n",
    "\n",
    "\n",
    "\n",
    "\n",
    "\n",
    "\n",
    "\n"
   ]
  }
 ],
 "metadata": {
  "interpreter": {
   "hash": "fa7101e1e1ee3ae4bb10ad32c530cd9a5b0e50fd40fba62a7aee72638d4b75ed"
  },
  "kernelspec": {
   "display_name": "Python 3.9.10 64-bit (system)",
   "language": "python",
   "name": "python3"
  },
  "language_info": {
   "codemirror_mode": {
    "name": "ipython",
    "version": 3
   },
   "file_extension": ".py",
   "mimetype": "text/x-python",
   "name": "python",
   "nbconvert_exporter": "python",
   "pygments_lexer": "ipython3",
   "version": "3.9.10"
  },
  "orig_nbformat": 4
 },
 "nbformat": 4,
 "nbformat_minor": 2
}
