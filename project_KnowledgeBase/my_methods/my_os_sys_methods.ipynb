{
 "cells": [
  {
   "cell_type": "code",
   "execution_count": 2,
   "metadata": {},
   "outputs": [
    {
     "data": {
      "text/plain": [
       "['d:\\\\IDE_prj\\\\project_KnowledgeBase\\\\my_methods',\n",
       " 'C:\\\\Users\\\\Александр\\\\AppData\\\\Local\\\\Programs\\\\Python\\\\Python39\\\\python39.zip',\n",
       " 'C:\\\\Users\\\\Александр\\\\AppData\\\\Local\\\\Programs\\\\Python\\\\Python39\\\\DLLs',\n",
       " 'C:\\\\Users\\\\Александр\\\\AppData\\\\Local\\\\Programs\\\\Python\\\\Python39\\\\lib',\n",
       " 'C:\\\\Users\\\\Александр\\\\AppData\\\\Local\\\\Programs\\\\Python\\\\Python39',\n",
       " '',\n",
       " 'C:\\\\Users\\\\Александр\\\\AppData\\\\Roaming\\\\Python\\\\Python39\\\\site-packages',\n",
       " 'C:\\\\Users\\\\Александр\\\\AppData\\\\Roaming\\\\Python\\\\Python39\\\\site-packages\\\\win32',\n",
       " 'C:\\\\Users\\\\Александр\\\\AppData\\\\Roaming\\\\Python\\\\Python39\\\\site-packages\\\\win32\\\\lib',\n",
       " 'C:\\\\Users\\\\Александр\\\\AppData\\\\Roaming\\\\Python\\\\Python39\\\\site-packages\\\\Pythonwin',\n",
       " 'C:\\\\Users\\\\Александр\\\\AppData\\\\Local\\\\Programs\\\\Python\\\\Python39\\\\lib\\\\site-packages']"
      ]
     },
     "execution_count": 2,
     "metadata": {},
     "output_type": "execute_result"
    }
   ],
   "source": [
    "import os, sys\n",
    "\n",
    "# Текущая рабочая директория (от куда запускается скрипт)\n",
    "os.getcwd()\n",
    "\n",
    "# sys.path - Значение функции path модуля sys – это список строк, которые указывают путь поиска для модулей. \n",
    "# Как правило, данная функция указывает Python, в каких локациях смотреть, когда он пытается импортировать модуль. \n",
    "# В соответствии с документацией Python, sys.path инициализируется из переменной окружения PYTHONPATH, \n",
    "# плюс зависимое от установки значение, указанное по умолчанию.\n",
    "sys.path"
   ]
  },
  {
   "cell_type": "code",
   "execution_count": 27,
   "metadata": {},
   "outputs": [
    {
     "data": {
      "text/plain": [
       "['d:\\\\IDE_prj\\\\project_KnowledgeBase\\\\personal_expenses\\\\modules',\n",
       " 'd:\\\\IDE_prj\\\\project_KnowledgeBase\\\\my_methods',\n",
       " 'd:\\\\IDE_prj\\\\project_KnowledgeBase\\\\personal_expenses\\\\modules',\n",
       " 'd:\\\\IDE_prj\\\\project_KnowledgeBase\\\\my_methods',\n",
       " 'd:\\\\IDE_prj\\\\project_KnowledgeBase\\\\my_methods',\n",
       " 'C:\\\\Users\\\\Александр\\\\AppData\\\\Local\\\\Programs\\\\Python\\\\Python39\\\\python39.zip',\n",
       " 'C:\\\\Users\\\\Александр\\\\AppData\\\\Local\\\\Programs\\\\Python\\\\Python39\\\\DLLs',\n",
       " 'C:\\\\Users\\\\Александр\\\\AppData\\\\Local\\\\Programs\\\\Python\\\\Python39\\\\lib',\n",
       " 'C:\\\\Users\\\\Александр\\\\AppData\\\\Local\\\\Programs\\\\Python\\\\Python39',\n",
       " '',\n",
       " 'C:\\\\Users\\\\Александр\\\\AppData\\\\Roaming\\\\Python\\\\Python39\\\\site-packages',\n",
       " 'C:\\\\Users\\\\Александр\\\\AppData\\\\Roaming\\\\Python\\\\Python39\\\\site-packages\\\\win32',\n",
       " 'C:\\\\Users\\\\Александр\\\\AppData\\\\Roaming\\\\Python\\\\Python39\\\\site-packages\\\\win32\\\\lib',\n",
       " 'C:\\\\Users\\\\Александр\\\\AppData\\\\Roaming\\\\Python\\\\Python39\\\\site-packages\\\\Pythonwin',\n",
       " 'C:\\\\Users\\\\Александр\\\\AppData\\\\Local\\\\Programs\\\\Python\\\\Python39\\\\lib\\\\site-packages']"
      ]
     },
     "execution_count": 27,
     "metadata": {},
     "output_type": "execute_result"
    }
   ],
   "source": [
    "# Функция добавляет папки проекта в sys.path\n",
    "def load_my_modules(prj_name=None, lst=None):\n",
    "\n",
    "    if prj_name==None:  prj_name = 'project_KnowledgeBase'       \n",
    "    if lst==None:       lst = [\n",
    "            '\\\\my_methods',\n",
    "            '\\\\personal_expenses\\\\modules'\n",
    "            # '\\\\qqq,',        \n",
    "    ]\n",
    "\n",
    "    # Получить текущую папку\n",
    "    cwd = os.getcwd()\n",
    "    prj_len = len(prj_name)\n",
    "    i1 = cwd.find(prj_name)\n",
    "    prj_dir = cwd[0:i1+prj_len]\n",
    "    # d:\\IDE_prj\\project_KnowledgeBase\n",
    "\n",
    "    # '\\' -> '\\\\'\n",
    "    if not prj_dir.find('\\\\\\\\'):\n",
    "        prj_dir = prj_dir.replace('\\\\', '\\\\\\\\')\n",
    "    \n",
    "    # Проверить наличие модулей в sys.path_hook\n",
    "    # Если отсутствют - добавить\n",
    "    for module_dir in lst:\n",
    "        module_dir = prj_dir + module_dir\n",
    "        if not module_dir in sys.path:\n",
    "            sys.path.insert(0, module_dir)\n",
    "\n",
    "    \n",
    "\n",
    "load_my_modules()\n",
    "sys.path"
   ]
  },
  {
   "cell_type": "code",
   "execution_count": 23,
   "metadata": {},
   "outputs": [
    {
     "data": {
      "text/plain": [
       "True"
      ]
     },
     "execution_count": 23,
     "metadata": {},
     "output_type": "execute_result"
    }
   ],
   "source": [
    "d = 'd:\\\\IDE_prj\\\\project_KnowledgeBase\\\\personal_expenses\\\\modules'\n",
    "d in sys.path"
   ]
  }
 ],
 "metadata": {
  "interpreter": {
   "hash": "fa7101e1e1ee3ae4bb10ad32c530cd9a5b0e50fd40fba62a7aee72638d4b75ed"
  },
  "kernelspec": {
   "display_name": "Python 3.9.10 64-bit (system)",
   "language": "python",
   "name": "python3"
  },
  "language_info": {
   "codemirror_mode": {
    "name": "ipython",
    "version": 3
   },
   "file_extension": ".py",
   "mimetype": "text/x-python",
   "name": "python",
   "nbconvert_exporter": "python",
   "pygments_lexer": "ipython3",
   "version": "3.9.10"
  },
  "orig_nbformat": 4
 },
 "nbformat": 4,
 "nbformat_minor": 2
}
