{
 "cells": [
  {
   "cell_type": "code",
   "execution_count": 1,
   "metadata": {},
   "outputs": [],
   "source": [
    "import modules.data_manager as dm\n",
    "from modules.models import *\n",
    "import sqlite3 \n",
    "\n",
    "# Создать новый файл БД (или открыть сущетвующий файл)\n",
    "db_name = 'D:/YandexDisk/it_Projects/py_databases/paymens.db'\n",
    "con = sqlite3.connect(db_name)"
   ]
  },
  {
   "cell_type": "code",
   "execution_count": 3,
   "metadata": {},
   "outputs": [],
   "source": [
    "# Закрыть базу (освободить файл)\n",
    "con.close()"
   ]
  },
  {
   "cell_type": "code",
   "execution_count": 2,
   "metadata": {},
   "outputs": [
    {
     "data": {
      "text/plain": [
       "0"
      ]
     },
     "execution_count": 2,
     "metadata": {},
     "output_type": "execute_result"
    }
   ],
   "source": [
    "# Создать таблицы базы данных\n",
    "dm.create_new_base()\n",
    "\n",
    "# Создать номера банковских карточек\n",
    "# Создать запись карты РНКБ\n",
    "card = BankCard(\n",
    "    id=1,\n",
    "    number='2200020233972043', \n",
    "    name='РНКБ 2043 (МИР)', \n",
    "    mark='Карта Дебетовая MASS N 2200 02** **** 2043')\n",
    "card.save()\n",
    "# Создать запись карты Сбербанк 'Maestro •••• 6632'\n",
    "card = BankCard(\n",
    "    id=2,\n",
    "    number='639002709006226632', \n",
    "    name='Сбербанк 6632 (Maestro)', \n",
    "    mark='Maestro •••• 6632')\n",
    "card.save()\n",
    "# Создать запись карты Сбербанк 'MIR •••• 6753', \n",
    "card = BankCard(\n",
    "    id=3,\n",
    "    number='2202201680256753', \n",
    "    name='Сбербанк 6753 (МИР)', \n",
    "    mark='MIR •••• 6753')\n",
    "card.save()"
   ]
  },
  {
   "cell_type": "code",
   "execution_count": null,
   "metadata": {},
   "outputs": [],
   "source": []
  }
 ],
 "metadata": {
  "interpreter": {
   "hash": "fa7101e1e1ee3ae4bb10ad32c530cd9a5b0e50fd40fba62a7aee72638d4b75ed"
  },
  "kernelspec": {
   "display_name": "Python 3.9.10 64-bit (system)",
   "language": "python",
   "name": "python3"
  },
  "language_info": {
   "codemirror_mode": {
    "name": "ipython",
    "version": 3
   },
   "file_extension": ".py",
   "mimetype": "text/x-python",
   "name": "python",
   "nbconvert_exporter": "python",
   "pygments_lexer": "ipython3",
   "version": "3.9.10"
  },
  "orig_nbformat": 4
 },
 "nbformat": 4,
 "nbformat_minor": 2
}
