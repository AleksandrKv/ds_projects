{
 "cells": [
  {
   "cell_type": "code",
   "execution_count": 1,
   "metadata": {},
   "outputs": [],
   "source": [
    "import sqlite3 \n",
    "import data_manager as dm\n",
    "import datetime as dt\n",
    "import pandas as pd\n",
    "from models import *\n",
    "# from sqlalchemy import create_engine"
   ]
  },
  {
   "cell_type": "code",
   "execution_count": 2,
   "metadata": {},
   "outputs": [],
   "source": [
    "# Создать новый файл БД (или открыть сущетвующий файл)\n",
    "db_name = 'D:/YandexDisk/it_Projects/py_databases/paymens.db'\n",
    "con = sqlite3.connect(db_name)\n",
    "\n",
    "# Создать таблицы базы данных\n",
    "dm.create_new_base()"
   ]
  },
  {
   "cell_type": "code",
   "execution_count": 69,
   "metadata": {},
   "outputs": [
    {
     "data": {
      "text/html": [
       "<div>\n",
       "<style scoped>\n",
       "    .dataframe tbody tr th:only-of-type {\n",
       "        vertical-align: middle;\n",
       "    }\n",
       "\n",
       "    .dataframe tbody tr th {\n",
       "        vertical-align: top;\n",
       "    }\n",
       "\n",
       "    .dataframe thead th {\n",
       "        text-align: right;\n",
       "    }\n",
       "</style>\n",
       "<table border=\"1\" class=\"dataframe\">\n",
       "  <thead>\n",
       "    <tr style=\"text-align: right;\">\n",
       "      <th></th>\n",
       "      <th>Дата операции</th>\n",
       "      <th>Дата обработки</th>\n",
       "      <th>Название операции</th>\n",
       "      <th>Сумма операции в валюте карты</th>\n",
       "      <th>Комиссия в валюте карты</th>\n",
       "      <th>Сумма операции в валюте операции</th>\n",
       "      <th>Валюта операции</th>\n",
       "      <th>Категория</th>\n",
       "      <th>Место операции</th>\n",
       "      <th>date</th>\n",
       "      <th>receipt</th>\n",
       "      <th>expense</th>\n",
       "    </tr>\n",
       "  </thead>\n",
       "  <tbody>\n",
       "    <tr>\n",
       "      <th>0</th>\n",
       "      <td>05.03.2022 12:57</td>\n",
       "      <td>05.03.2022</td>\n",
       "      <td>NaN</td>\n",
       "      <td>360.0</td>\n",
       "      <td>0.0</td>\n",
       "      <td>360.0</td>\n",
       "      <td>RUR</td>\n",
       "      <td>NaN</td>\n",
       "      <td>NaN</td>\n",
       "      <td>2022-03-05 12:57:00</td>\n",
       "      <td>360.0</td>\n",
       "      <td>NaN</td>\n",
       "    </tr>\n",
       "    <tr>\n",
       "      <th>1</th>\n",
       "      <td>05.03.2022 15:12</td>\n",
       "      <td>09.03.2022</td>\n",
       "      <td>Покупка RUS SEVASTOPOL SUPERTIAZH</td>\n",
       "      <td>-287.0</td>\n",
       "      <td>0.0</td>\n",
       "      <td>-287.0</td>\n",
       "      <td>RUR</td>\n",
       "      <td>Ресторан, кафе, бар</td>\n",
       "      <td>NaN</td>\n",
       "      <td>2022-03-05 15:12:00</td>\n",
       "      <td>NaN</td>\n",
       "      <td>287.0</td>\n",
       "    </tr>\n",
       "    <tr>\n",
       "      <th>2</th>\n",
       "      <td>05.03.2022 16:32</td>\n",
       "      <td>09.03.2022</td>\n",
       "      <td>Покупка RUS SEVASTOPOL 7M BEZ TCEN</td>\n",
       "      <td>-88.8</td>\n",
       "      <td>0.0</td>\n",
       "      <td>-88.8</td>\n",
       "      <td>RUR</td>\n",
       "      <td>Супермаркеты</td>\n",
       "      <td>NaN</td>\n",
       "      <td>2022-03-05 16:32:00</td>\n",
       "      <td>NaN</td>\n",
       "      <td>88.8</td>\n",
       "    </tr>\n",
       "  </tbody>\n",
       "</table>\n",
       "</div>"
      ],
      "text/plain": [
       "      Дата операции Дата обработки                   Название операции  \\\n",
       "0  05.03.2022 12:57     05.03.2022                                 NaN   \n",
       "1  05.03.2022 15:12     09.03.2022   Покупка RUS SEVASTOPOL SUPERTIAZH   \n",
       "2  05.03.2022 16:32     09.03.2022  Покупка RUS SEVASTOPOL 7M BEZ TCEN   \n",
       "\n",
       "   Сумма операции в валюте карты  Комиссия в валюте карты  \\\n",
       "0                          360.0                      0.0   \n",
       "1                         -287.0                      0.0   \n",
       "2                          -88.8                      0.0   \n",
       "\n",
       "   Сумма операции в валюте операции Валюта операции            Категория  \\\n",
       "0                             360.0             RUR                  NaN   \n",
       "1                            -287.0             RUR  Ресторан, кафе, бар   \n",
       "2                             -88.8             RUR         Супермаркеты   \n",
       "\n",
       "   Место операции                date  receipt  expense  \n",
       "0             NaN 2022-03-05 12:57:00    360.0      NaN  \n",
       "1             NaN 2022-03-05 15:12:00      NaN    287.0  \n",
       "2             NaN 2022-03-05 16:32:00      NaN     88.8  "
      ]
     },
     "execution_count": 69,
     "metadata": {},
     "output_type": "execute_result"
    }
   ],
   "source": [
    "# Загрузить CSV файл в DataFrame\n",
    "filename = 'D:/IDE_prj/project_KnowledgeBase/personal_expenses/data_input/tst.csv'\n",
    "df = pd.read_csv(filename, sep=';', encoding='cp1251')\n",
    "\n",
    "# Создать столбец \"date\" (перобразовать тип поля текст в дату)\n",
    "df[\"date\"] = pd.to_datetime(df[\"Дата операции\"], dayfirst=True)\n",
    "\n",
    "# Создать стобцы \"receipt\" (Приход) и \"expense\" (Расход)\n",
    "mask_receipt = df[\"Сумма операции в валюте карты\"] > 0\n",
    "mask_expense = df[\"Сумма операции в валюте карты\"] < 0\n",
    "df['receipt'] = df[mask_receipt][\"Сумма операции в валюте карты\"]\n",
    "df['expense'] = -df[mask_expense][\"Сумма операции в валюте карты\"]\n",
    "d1 = df.date.min().date()\n",
    "d2 = (df.date.max()+pd.offsets.Day(1)).date()\n",
    "# [df.receipt.sum(), df.expense.sum(), d1, d2]\n",
    "\n",
    "# df = df.head(3)\n",
    "df.head(3)\n",
    "# df.tail(3)\n",
    "# df.info()\n"
   ]
  },
  {
   "cell_type": "code",
   "execution_count": 8,
   "metadata": {},
   "outputs": [
    {
     "data": {
      "text/plain": [
       "1"
      ]
     },
     "execution_count": 8,
     "metadata": {},
     "output_type": "execute_result"
    }
   ],
   "source": [
    "# Создать запись карты РНКБ\n",
    "card = BankCard(number='2200020233972043', name='Карта РНКБ')\n",
    "card.save()\n"
   ]
  },
  {
   "cell_type": "code",
   "execution_count": 70,
   "metadata": {},
   "outputs": [
    {
     "name": "stdout",
     "output_type": "stream",
     "text": [
      "Карта РНКБ: 2200020233972043\n",
      "2 2022-03-05 12:57:00 2022-04-26 10:32:53.318072 nan 360.0 nan nan <class 'datetime.datetime'>\n",
      "2 2022-03-05 15:12:00 2022-04-26 10:32:53.318072 Покупка RUS SEVASTOPOL SUPERTIAZH -287.0 Ресторан, кафе, бар nan <class 'datetime.datetime'>\n",
      "2 2022-03-05 16:32:00 2022-04-26 10:32:53.318072 Покупка RUS SEVASTOPOL 7M BEZ TCEN -88.8 Супермаркеты nan <class 'datetime.datetime'>\n",
      "2 2022-03-07 15:26:00 2022-04-26 10:32:53.319080 nan 200.0 nan nan <class 'datetime.datetime'>\n",
      "2 2022-03-07 15:38:00 2022-04-26 10:32:53.319080 Покупка RUS SEVASTOPOL MAGAZIN VIKTORIIA -100.0 Супермаркеты nan <class 'datetime.datetime'>\n",
      "2 2022-03-08 07:40:00 2022-04-26 10:32:53.319080 nan 4500.0 nan nan <class 'datetime.datetime'>\n",
      "2 2022-03-08 07:41:00 2022-04-26 10:32:53.319080 Выдача наличных RUS SEVASTOPOL ATM-8509 -4500.0 Снятие наличных nan <class 'datetime.datetime'>\n",
      "2 2022-03-10 14:57:00 2022-04-26 10:32:53.319080 Пополнение через POS-терминал 1300000.0 nan nan <class 'datetime.datetime'>\n",
      "2 2022-03-12 16:16:00 2022-04-26 10:32:53.319080 Покупка RUS SEVASTOPOL NOVUS -630.15 Супермаркеты nan <class 'datetime.datetime'>\n",
      "2 2022-03-12 16:18:00 2022-04-26 10:32:53.319080 Покупка RUS SEVASTOPOL SUSHI STORE -661.0 Ресторан, кафе, бар nan <class 'datetime.datetime'>\n",
      "2 2022-03-13 14:50:00 2022-04-26 10:32:53.319080 Покупка RUS SEVASTOPOL MAGAZIN KHOROSHII -398.0 Супермаркеты nan <class 'datetime.datetime'>\n",
      "2 2022-03-13 21:41:00 2022-04-26 10:32:53.319080 Покупка RUS SEVASTOPOL NOVUS -436.0 Супермаркеты nan <class 'datetime.datetime'>\n",
      "2 2022-03-13 21:50:00 2022-04-26 10:32:53.319080 Покупка RUS SEVASTOPOL NOVUS -868.14 Супермаркеты nan <class 'datetime.datetime'>\n",
      "2 2022-03-15 15:34:00 2022-04-26 10:32:53.319080 nan -50000.0 Другое nan <class 'datetime.datetime'>\n",
      "2 2022-03-15 18:38:00 2022-04-26 10:32:53.319080 Покупка RUS SEVASTOPOL PINTA BAR -205.0 Ресторан, кафе, бар nan <class 'datetime.datetime'>\n",
      "2 2022-03-15 20:38:00 2022-04-26 10:32:53.320077 nan -5450.0 Другое nan <class 'datetime.datetime'>\n",
      "2 2022-03-16 17:29:00 2022-04-26 10:32:53.320077 Покупка RUS SEVASTOPOL BAGIRA UMASHEVA -1850.0 Животные nan <class 'datetime.datetime'>\n",
      "2 2022-03-16 17:41:00 2022-04-26 10:32:53.320077 Покупка RUS SEVASTOPOL AZS 65 ATAN -2799.5 Автомобили nan <class 'datetime.datetime'>\n",
      "2 2022-03-16 18:48:00 2022-04-26 10:32:53.320077 Покупка RUS SEVASTOPOL MAGAZIN KHOROSHII -230.0 Супермаркеты nan <class 'datetime.datetime'>\n",
      "2 2022-03-17 09:54:00 2022-04-26 10:32:53.320077 Покупка RUS Moskva Sevstar -650.0 Коммунальные услуги nan <class 'datetime.datetime'>\n",
      "2 2022-03-17 10:21:00 2022-04-26 10:32:53.320077 Выдача наличных RUS SEVASTOPOL ATM-8266 -2800.0 Снятие наличных nan <class 'datetime.datetime'>\n",
      "2 2022-03-17 10:30:00 2022-04-26 10:32:53.320077 Покупка RUS SEVASTOPOL MAGAZIN KLUMBA -1710.0 Развлечения nan <class 'datetime.datetime'>\n",
      "2 2022-03-18 12:24:00 2022-04-26 10:32:53.320077 Покупка RUS SEVASTOPOL MIASO 50 LET SSSR -808.92 Супермаркеты nan <class 'datetime.datetime'>\n",
      "2 2022-03-18 12:59:00 2022-04-26 10:32:53.320077 Покупка RUS SEVASTOPOL MAGAZIN DOBROTCEN -3580.1 Супермаркеты nan <class 'datetime.datetime'>\n",
      "2 2022-03-18 13:49:00 2022-04-26 10:32:53.320077 Покупка RUS SEVASTOPOL NOVUS -1187.63 Супермаркеты nan <class 'datetime.datetime'>\n",
      "2 2022-03-18 13:52:00 2022-04-26 10:32:53.320077 Покупка RUS SEVASTOPOL 11133 -149.0 Красота nan <class 'datetime.datetime'>\n",
      "2 2022-03-18 14:01:00 2022-04-26 10:32:53.320077 nan -1000.0 Другое nan <class 'datetime.datetime'>\n",
      "2 2022-03-18 15:34:00 2022-04-26 10:32:53.320077 Покупка RUS SEVASTOPOL KAFE MIMINOSHI -1015.0 Ресторан, кафе, бар nan <class 'datetime.datetime'>\n",
      "2 2022-03-19 17:55:00 2022-04-26 10:32:53.320077 Покупка RUS SEVASTOPOL EDWARD BARBERSHOP -1200.0 Красота nan <class 'datetime.datetime'>\n",
      "2 2022-03-20 13:40:00 2022-04-26 10:32:53.320077 Покупка RUS SEVASTOPOL' MUZEY CHF (CVMM MO RF) -1600.0 Развлечения nan <class 'datetime.datetime'>\n",
      "2 2022-03-20 16:36:00 2022-04-26 10:32:53.321079 Покупка RUS SEVASTOPOL IP BESSMERTNYI V. V. -475.0 Супермаркеты nan <class 'datetime.datetime'>\n",
      "2 2022-03-20 17:09:00 2022-04-26 10:32:53.321079 Покупка RUS SEVASTOPOL Restoran pitaniia EATY -517.0 Ресторан, кафе, бар nan <class 'datetime.datetime'>\n",
      "2 2022-03-20 17:20:00 2022-04-26 10:32:53.321079 Покупка RUS SEVASTOPOL NOVUS -229.0 Супермаркеты nan <class 'datetime.datetime'>\n",
      "2 2022-03-21 11:23:00 2022-04-26 10:32:53.321079 Покупка RUS SEVASTOPOL MAGAZIN KHOROSHII -366.0 Супермаркеты nan <class 'datetime.datetime'>\n",
      "2 2022-03-21 11:30:00 2022-04-26 10:32:53.321079 Покупка RUS SEVASTOPOL GASTRONOM VIKTORIYA -459.0 Супермаркеты nan <class 'datetime.datetime'>\n",
      "2 2022-03-21 11:42:00 2022-04-26 10:32:53.321079 Fee for out SBP SBP perevod 0.0 nan nan <class 'datetime.datetime'>\n",
      "2 2022-03-21 11:42:00 2022-04-26 10:32:53.321079 nan -100000.0 Другое nan <class 'datetime.datetime'>\n",
      "2 2022-03-23 19:08:00 2022-04-26 10:32:53.321079 Выдача наличных RUS SEVASTOPOL ATM-8828 -5000.0 Снятие наличных nan <class 'datetime.datetime'>\n",
      "2 2022-03-26 12:45:00 2022-04-26 10:32:53.321079 Выдача наличных RUS SEVASTOPOL ATM-8316 -90000.0 Снятие наличных nan <class 'datetime.datetime'>\n",
      "2 2022-03-26 12:46:00 2022-04-26 10:32:53.321079 Выдача наличных RUS SEVASTOPOL ATM-8316 -4000.0 Снятие наличных nan <class 'datetime.datetime'>\n",
      "2 2022-03-26 12:47:00 2022-04-26 10:32:53.321079 Выдача наличных RUS SEVASTOPOL ATM-8316 -6000.0 Снятие наличных nan <class 'datetime.datetime'>\n",
      "2 2022-03-27 17:24:00 2022-04-26 10:32:53.321079 Покупка RUS SEVASTOPOL NOVACENTR K LLC -2301.2 Все для дома nan <class 'datetime.datetime'>\n",
      "2 2022-03-27 17:24:00 2022-04-26 10:32:53.321079 Покупка RUS SEVASTOPOL GIPERMARKET NOVATCENTR -3195.0 Все для дома nan <class 'datetime.datetime'>\n",
      "2 2022-03-27 17:24:00 2022-04-26 10:32:53.321079 Reversal. Покупка RUS SEVASTOPOL NOVACENTR K LLC 3195.0 nan nan <class 'datetime.datetime'>\n",
      "2 2022-03-28 08:06:00 2022-04-26 10:32:53.321079 Покупка RUS SEVASTOPOL GIPERMARKET NOVATCENTR -1299.0 Все для дома nan <class 'datetime.datetime'>\n",
      "2 2022-03-28 08:07:00 2022-04-26 10:32:53.322082 Покупка RUS SEVASTOPOL GIPERMARKET NOVATCENTR -427.0 Все для дома nan <class 'datetime.datetime'>\n",
      "2 2022-03-28 11:08:00 2022-04-26 10:32:53.322082 Покупка RUS SEVASTOPOL NOVACENTR K LLC -1498.0 Все для дома nan <class 'datetime.datetime'>\n",
      "2 2022-03-28 11:22:00 2022-04-26 10:32:53.322082 Покупка RUS SEVASTOPOL NOVACENTR K LLC -2195.0 Все для дома nan <class 'datetime.datetime'>\n",
      "2 2022-03-29 14:47:00 2022-04-26 10:32:53.322082 Покупка RUS SEVASTOPOL MAGAZIN MALINA -201.0 Все для дома nan <class 'datetime.datetime'>\n",
      "2 2022-03-30 07:52:00 2022-04-26 10:32:53.322082 Покупка RUS SEVASTOPOL AZS 85 ATAN -2859.5 Автомобили nan <class 'datetime.datetime'>\n",
      "2 2022-03-30 12:30:00 2022-04-26 10:32:53.322082 Покупка RUS SEVASTOPOL MAGAZIN SANTEKHNIKA -3232.46 Все для дома nan <class 'datetime.datetime'>\n",
      "2 2022-03-30 12:39:00 2022-04-26 10:32:53.322082 Покупка RUS SEVASTOPOL INTERERNYE CHASY -670.0 Одежда, обувь, украшения nan <class 'datetime.datetime'>\n",
      "2 2022-03-30 13:30:00 2022-04-26 10:32:53.322082 Покупка RUS SEVASTOPOL MAGAZIN EKONOM -60.0 Супермаркеты nan <class 'datetime.datetime'>\n",
      "2 2022-03-30 16:21:00 2022-04-26 10:32:53.322082 Выдача наличных RUS SEVASTOPOL ATM-8316 -99000.0 Снятие наличных nan <class 'datetime.datetime'>\n",
      "2 2022-03-30 19:40:00 2022-04-26 10:32:53.322082 Покупка RUS SEVASTOPOL NOVUS -3162.57 Супермаркеты nan <class 'datetime.datetime'>\n",
      "2 2022-03-31 10:36:00 2022-04-26 10:32:53.322082 Выдача наличных RUS SEVASTOPOL' ATM-8511 -500.0 Снятие наличных nan <class 'datetime.datetime'>\n",
      "2 2022-03-31 12:57:00 2022-04-26 10:32:53.322082 Fee for out SBP SBP perevod 0.0 nan nan <class 'datetime.datetime'>\n",
      "2 2022-03-31 12:57:00 2022-04-26 10:32:53.322082 nan -100000.0 Другое nan <class 'datetime.datetime'>\n",
      "2 2022-04-01 08:39:00 2022-04-26 10:32:53.322082 nan -50000.0 Другое nan <class 'datetime.datetime'>\n",
      "2 2022-04-01 14:37:00 2022-04-26 10:32:53.323084 Выдача наличных RUS SEVASTOPOL ATM-8316 -49000.0 Снятие наличных nan <class 'datetime.datetime'>\n"
     ]
    }
   ],
   "source": [
    "def get_banc_card():\n",
    "    sel = BankCard.select().where(BankCard.number == '2200020233972043')\n",
    "    if len(sel) != 1:\n",
    "        print(\"В базе данных не найдена банковская карта с запрашиваемым именем\")\n",
    "        return\n",
    "    bank_card = sel.get()\n",
    "    print(f'{bank_card.name}: {bank_card.number}')\n",
    "    return bank_card\n",
    "\n",
    "def get_dt_from_pandas(value):\n",
    "    return dt.datetime(\n",
    "        value.year,\n",
    "        value.month,\n",
    "        value.day,\n",
    "        value.hour,\n",
    "        value.minute,\n",
    "        value.second\n",
    "    )\n",
    "\n",
    "bank_card = get_banc_card()\n",
    "\n",
    "payments = [PamentBankCard(\n",
    "        card_id      = bank_card, \n",
    "        date         = get_dt_from_pandas(rec.date),\n",
    "        date_account = dt.datetime.now(), #['Дата обработки'],\n",
    "        name         = rec['Название операции'],\n",
    "        amount       = rec['Сумма операции в валюте карты'],\n",
    "        category     = rec['Категория'],\n",
    "        place        = rec['Место операции'],\n",
    "    ) for i,rec in df.iterrows()\n",
    "]\n",
    "\n",
    "# for rec in payments:\n",
    "#     print(rec.card_id, rec.date, rec.date_account, rec.name, rec.amount, rec.category, rec.place, type(rec.date))\n",
    "\n",
    "PamentBankCard.bulk_create(payments, batch_size=999)\n",
    "# payment.bu"
   ]
  },
  {
   "cell_type": "code",
   "execution_count": 66,
   "metadata": {},
   "outputs": [
    {
     "name": "stdout",
     "output_type": "stream",
     "text": [
      "Карта РНКБ (Kovex)\n"
     ]
    }
   ],
   "source": [
    "# Получить объект банковской карты\n",
    "\n",
    "def test():\n",
    "    sel = BankCard.select().where(BankCard.number == '2200020233972043')\n",
    "    if len(sel) != 1:\n",
    "        print(\"В базе данных не найдена банковская карта с запрашиваемым именем\")\n",
    "        return\n",
    "    bank_card = sel.get()\n",
    "    print(bank_card.name)\n",
    "    \n",
    "test()"
   ]
  },
  {
   "cell_type": "code",
   "execution_count": 74,
   "metadata": {},
   "outputs": [
    {
     "name": "stdout",
     "output_type": "stream",
     "text": [
      "Количество записей: 9\n",
      "2022-03-10 14:57:00\n",
      "2022-03-12 16:16:00\n",
      "2022-03-12 16:18:00\n",
      "2022-03-13 14:50:00\n",
      "2022-03-13 21:41:00\n",
      "2022-03-13 21:50:00\n",
      "2022-03-15 15:34:00\n",
      "2022-03-15 18:38:00\n",
      "2022-03-15 20:38:00\n"
     ]
    }
   ],
   "source": [
    "def print_records(d1, d2):\n",
    "\n",
    "\n",
    "    # Выдать даты по карте за период\n",
    "    sel = PamentBankCard.select().where(\n",
    "        (PamentBankCard.card_id == bank_card) \n",
    "        & (PamentBankCard.date >= d1) \n",
    "        & (PamentBankCard.date < d2)\n",
    "        )\n",
    "\n",
    "    print(f'Количество записей: {len(sel)}')\n",
    "\n",
    "    for rec in sel:\n",
    "        print(rec.date)\n",
    "\n",
    "print_records(\n",
    "    dt.datetime(2022,3,10), \n",
    "    dt.datetime(2022,3,16))"
   ]
  },
  {
   "cell_type": "code",
   "execution_count": 80,
   "metadata": {},
   "outputs": [],
   "source": [
    "def delete_records(card, d1, d2):\n",
    "    # Выдать даты по карте за период\n",
    "    sel = PamentBankCard.select().where(\n",
    "        (PamentBankCard.card_id == card) \n",
    "        & (PamentBankCard.date >= d1) \n",
    "        & (PamentBankCard.date < d2)\n",
    "        )\n",
    "    with db.atomic() as transaction:  # transaction.rollback()\n",
    "        for rec in sel:\n",
    "            rec.delete_instance()\n",
    "\n",
    "delete_records(\n",
    "    bank_card,\n",
    "    dt.datetime(2022,3,1), \n",
    "    dt.datetime(2022,3,6))"
   ]
  },
  {
   "cell_type": "code",
   "execution_count": 81,
   "metadata": {},
   "outputs": [
    {
     "name": "stdout",
     "output_type": "stream",
     "text": [
      "Количество записей: 4\n",
      "2022-03-07 15:26:00\n",
      "2022-03-07 15:38:00\n",
      "2022-03-08 07:40:00\n",
      "2022-03-08 07:41:00\n"
     ]
    }
   ],
   "source": [
    "print_records(\n",
    "    dt.datetime(2022,3,1), \n",
    "    dt.datetime(2022,3,16))"
   ]
  },
  {
   "cell_type": "code",
   "execution_count": null,
   "metadata": {},
   "outputs": [],
   "source": [
    "import tkinter.filedialog as fd\n",
    "filetypes = ((\"CSV\", \"*.csv\"),\n",
    "                (\"Сбербанк PDF\", \"*.pdf\"),\n",
    "                (\"Любой\", \"*\"))                \n",
    "filename = fd.askopenfilename(title=\"Открыть файл\", #initialdir=os.getcwd(), #\"/\",\n",
    "                                filetypes=filetypes)\n"
   ]
  },
  {
   "cell_type": "code",
   "execution_count": 1,
   "metadata": {},
   "outputs": [
    {
     "ename": "NameError",
     "evalue": "name 'filename' is not defined",
     "output_type": "error",
     "traceback": [
      "\u001b[1;31m---------------------------------------------------------------------------\u001b[0m",
      "\u001b[1;31mNameError\u001b[0m                                 Traceback (most recent call last)",
      "\u001b[1;32md:\\IDE_prj\\project_KnowledgeBase\\personal_expenses\\tests.ipynb Cell 11'\u001b[0m in \u001b[0;36m<module>\u001b[1;34m\u001b[0m\n\u001b[0;32m      <a href='vscode-notebook-cell:/d%3A/IDE_prj/project_KnowledgeBase/personal_expenses/tests.ipynb#ch0000010?line=0'>1</a>\u001b[0m \u001b[39mimport\u001b[39;00m \u001b[39mos\u001b[39;00m\n\u001b[1;32m----> <a href='vscode-notebook-cell:/d%3A/IDE_prj/project_KnowledgeBase/personal_expenses/tests.ipynb#ch0000010?line=1'>2</a>\u001b[0m os\u001b[39m.\u001b[39mpath\u001b[39m.\u001b[39msplitext(filename)[\u001b[39m1\u001b[39m]\u001b[39m.\u001b[39mlower()\n",
      "\u001b[1;31mNameError\u001b[0m: name 'filename' is not defined"
     ]
    }
   ],
   "source": [
    "import os\n",
    "os.path.splitext(filename)[1].lower()\n"
   ]
  }
 ],
 "metadata": {
  "interpreter": {
   "hash": "fa7101e1e1ee3ae4bb10ad32c530cd9a5b0e50fd40fba62a7aee72638d4b75ed"
  },
  "kernelspec": {
   "display_name": "Python 3.9.10 64-bit (system)",
   "language": "python",
   "name": "python3"
  },
  "language_info": {
   "codemirror_mode": {
    "name": "ipython",
    "version": 3
   },
   "file_extension": ".py",
   "mimetype": "text/x-python",
   "name": "python",
   "nbconvert_exporter": "python",
   "pygments_lexer": "ipython3",
   "version": "3.9.10"
  },
  "orig_nbformat": 4
 },
 "nbformat": 4,
 "nbformat_minor": 2
}
