{
 "cells": [
  {
   "cell_type": "code",
   "execution_count": 16,
   "metadata": {},
   "outputs": [],
   "source": [
    "import xml.etree.ElementTree as ET\n",
    "def load_payments_from_XML_sber(file_name):\n",
    "    # возвращает словарь результатов:\n",
    "    # df: DataFrame\n",
    "    # Параметры выписки (d1, d2, sum1, sum2, приходы, расходы, метка карты)\n",
    "\n",
    "    res = {}\n",
    "    res[\"error_text\"] = \"\" # значение поумолчанию, т.е. нет ошибок\n",
    "    res['success'] = False\n",
    "    res['prop'] = [0,0,0,0]  # res['prop'] [Остаток1, Остаток2, Расходы, Приходы]\n",
    "\n",
    "    # tag_root\n",
    "    xlm = ET.parse(file_name)\n",
    "    tag_root = xlm.getroot()\n",
    "\n",
    "    level =   '{urn:schemas-microsoft-com:office:spreadsheet}Worksheet'\n",
    "    level += '/{urn:schemas-microsoft-com:office:spreadsheet}Table'\n",
    "    level += '/{urn:schemas-microsoft-com:office:spreadsheet}Row'\n",
    "\n",
    "    ind = 0\n",
    "    rows = []\n",
    "    rows1 = []\n",
    "\n",
    "    # считать данные в список\n",
    "    for tag_row in tag_root.findall(level):\n",
    "        row = []\n",
    "        for i_cel, tag in enumerate(tag_row.findall('{urn:schemas-microsoft-com:office:spreadsheet}Cell')):            \n",
    "            text = ''\n",
    "            for t in tag.itertext():\n",
    "                text += t\n",
    "            row.append(text)\n",
    "        rows.append(row)\n",
    "        ind +=1\n",
    "    \n",
    "    ind = 19\n",
    "    n_rows = len(rows)\n",
    "    while ind < n_rows: \n",
    "\n",
    "        row=rows[ind]\n",
    "\n",
    "        # все строки, длиной 8 ячеек\n",
    "        #   Date\t    Time  ...   Name\t...\t         Amount\t....\tBalance\tAmount_num\tBalance_num\n",
    "        # 0\t2022.03.31\t15:44\t\tПеревод с карты\t\t5 000,00\t\t337.94\t5000.00\t337.94\n",
    "        # 1\t2022.03.31\t202880\t\tSBOL перевод 2202****6497 В. СЕРГЕЙ СЕРГЕЕВИЧ\t\t\t\t\tNaN\tNaN\n",
    "        if len(row)==8:\n",
    "            rows1.append(row) \n",
    "        # т.к. дина ячеек <> 8\n",
    "        elif len(row) == 1:       \n",
    "            if rows[ind-1] == ['В валюте счёта']:\n",
    "                \n",
    "                spaces = '     '\n",
    "                while (spaces in row[0]) and (n_rows-ind > 5):\n",
    "                        # проверить задовение 2-х строк в одну (если точнее, то 5 строк в 10. цветной пример см. в xlsx февраль 2022, \"Maestro •••• 6632\")\n",
    "                        packet=1     # число строк в группе (задовения)\n",
    "                        if spaces in rows[ind+2*packet][0]: \n",
    "                            packet=2\n",
    "                            if spaces in rows[ind+2*packet][0]: \n",
    "                                packet=3\n",
    "                                if spaces in rows[ind+2*packet][0]: \n",
    "                                    # перебор. делаем ошибку. \n",
    "                                    res[\"error_text\"] = f'Ошибка формата Сбер_XML. Превышен допустимый размер пакета строк (код 311)'\n",
    "                                    return res\n",
    "                        for p_ind in range(0, packet):                                \n",
    "\n",
    "                            # считываем строки и записываем их в rows1 (длиной 8)\n",
    "                            r1=8*[\"\"]\n",
    "                            r2=8*[\"\"]\n",
    "\n",
    "                            # val = ['21.02.2022         13:54']     \n",
    "                            row = rows[ind+2*p_ind + 0]\n",
    "                            val = row[0]  \n",
    "                            v1 = val[0:10]\n",
    "                            v2 = val[-5:]\n",
    "                            r1[0] = v1\n",
    "                            r1[1] = v2\n",
    "\n",
    "                            # val = ['22.02.2022          209281']\n",
    "                            row = rows[ind+2*p_ind + 1]\n",
    "                            val = row[0]\n",
    "                            v1 = val[0:10]\n",
    "                            v2 = val[-6:]\n",
    "                            r2[0] = v1\n",
    "                            r2[1] = v2\n",
    "\n",
    "                            # val = ['Перевод с карты']\n",
    "                            row = rows[ind+2*p_ind + 2]\n",
    "                            val = row[0]\n",
    "                            r1[3] = val\n",
    "\n",
    "                            # val = ['SBOL перевод 4276****9099 П. ДЕНИС ЮРЬЕВИЧ']\n",
    "                            row = rows[ind+5*p_ind + 3]\n",
    "                            val = row[0]\n",
    "                            r2[3] = val\n",
    "\n",
    "                            # val = ['125 000,00                           70 228,77']\n",
    "                            row = rows[ind+2*p_ind + 4]\n",
    "                            val = row[0]\n",
    "                            lst = val.split('   ')\n",
    "                            v1 = lst[0]\n",
    "                            v2 = lst[-1]\n",
    "                            r1[5] = v1\n",
    "                            r1[7] = v2\n",
    "                            rows1.append(r1)\n",
    "                            rows1.append(r2)\n",
    "                        ind += 5*packet\n",
    "        ind +=1\n",
    "    return rows1        \n",
    "            \n",
    "        \n",
    "        \n",
    "file_name_input = 'D:\\\\YandexDisk\\\\Мои ДОКУМЕНТЫ\\\\ООО Арсенал-строй (уу)\\\\!!! Управленческй учет\\\\Закрытие 2022-02 (февраль)\\\\Документ-2022-03-05 Maestro 6632.xml'\n",
    "rows1 = load_payments_from_XML_sber(file_name_input)\n",
    "\n"
   ]
  },
  {
   "cell_type": "code",
   "execution_count": 15,
   "metadata": {},
   "outputs": [
    {
     "name": "stdout",
     "output_type": "stream",
     "text": [
      "['2022-02-27T00:00:00.000', '08:52', '', 'Перевод с карты', '', '5 000,00', '', '3 432,97']\n",
      "['2022-02-28T00:00:00.000', '299600', '', 'SBOL перевод 2202****0202', '', '', '', '']\n",
      "['2022-02-26T00:00:00.000', '13:31', '', 'Прочие операции', '', '4 800,00', '', '8 432,97']\n",
      "['2022-02-26T00:00:00.000', '206591', '', 'RNCB', '', '', '', '']\n",
      "['2022-02-25T00:00:00.000', '13:23', '', 'Путешествия', '', '6 010,80', '', '13 232,97']\n",
      "['2022-02-26T00:00:00.000', '204976', '', 'PZD-ONLINE', '', '', '', '']\n",
      "['2022-02-25T00:00:00.000', '09:17', '', 'Перевод с карты', '', '5 000,00', '', '19 243,77']\n",
      "['2022-02-25T00:00:00.000', '248418', '', 'SBOL перевод 2202****0202', '', '', '', '']\n",
      "['2022-02-23T00:00:00.000', '11:59', '', 'Прочие операции', '', '50', '', '24 243,77']\n",
      "['2022-02-23T00:00:00.000', '284259', '', 'RNCB', '', '', '', '']\n",
      "['2022-02-23T00:00:00.000', '11:55', '', 'Прочие операции', '', '450', '', '24 293,77']\n",
      "['2022-02-23T00:00:00.000', '288926', '', 'RNCB', '', '', '', '']\n",
      "['2022-02-22T00:00:00.000', '11:48', '', 'Прочие операции', '', '700 000,00', '', '24 743,77']\n",
      "['2022-02-22T00:00:00.000', '259399', '', 'SBERBANK ONL@IN KARTA-VKLAD', '', '', '', '']\n",
      "['2022-02-22T00:00:00.000', '11:40', '', 'Перевод с карты', '', '38 000,00', '', '724 743,77']\n",
      "['2022-02-22T00:00:00.000', '288365', '', 'SBOL перевод 2202****3927 Ж. НАТАЛЬЯ ВЛАДИМИРОВНА', '', '', '', '']\n",
      "['2022-02-22T00:00:00.000', '03:20', '', 'Неизвестная категория(+)', '', '+200 000,00', '', '762 743,77']\n",
      "['2022-02-22T00:00:00.000', '299488', '', 'Выплата по договору займа', '', '', '', '']\n",
      "['2022-02-22T00:00:00.000', '02:56', '', 'Неизвестная категория(+)', '', '+500 000,00', '', '562 743,77']\n",
      "['2022-02-22T00:00:00.000', '276405', '', 'Выплата по договору займа', '', '', '', '']\n",
      "['2022-02-21T00:00:00.000', '15:18', '', 'Комунальные платежи, связь, интернет.', '', '1 000,00', '', '62 743,77']\n",
      "['2022-02-22T00:00:00.000', '271949', '', 'Sevstar', '', '', '', '']\n",
      "['21.02.2022', '13:54', '', 'Путешествия', '', '6 485,00', '', '63 743,77']\n",
      "['22.02.2022', '209281', '', 'URAL AIRLINES', '', '', '', '']\n",
      "['21.02.2022', '07:39', '', 'Перевод с карты', '', '125 000,00', '', '70 228,77']\n",
      "['21.02.2022', '216153', '', 'SBOL перевод 4276****9099 П. ДЕНИС ЮРЬЕВИЧ', '', '', '', '']\n",
      "['21.02.2022', '07:37', '', '21.02.2022         05:23', '', 'Прочие операции', '', 'Прочие операции']\n",
      "['21.02.2022', '279569', '', '21.02.2022          243133', '', '', '', '']\n",
      "['21.02.2022', '05:23', '', 'Прочие операции', '', 'Неизвестная категория(+)', '', 'Неизвестная категория(+)']\n",
      "['21.02.2022', '243133', '', '+30 000,00                         195 228,77', '', '', '', '']\n",
      "['2022-02-03T00:00:00.000', '17:46', '', 'Перевод с карты', '', '1 500,00', '', '31 049,59']\n",
      "['2022-02-03T00:00:00.000', '260766', '', 'SBOL перевод 4276****2229 К. АНДРЕЙ АЛЕКСАНДРОВИЧ', '', '', '', '']\n",
      "['2022-02-03T00:00:00.000', '14:34', '', 'Перевод с карты', '', '200', '', '32 549,59']\n",
      "['2022-02-03T00:00:00.000', '234607', '', 'SBOL перевод 4276****2229 К. АНДРЕЙ АЛЕКСАНДРОВИЧ', '', '', '', '']\n",
      "['2022-02-02T00:00:00.000', '13:45', '', 'Перевод с карты', '', '5 000,00', '', '32 749,59']\n",
      "['2022-02-02T00:00:00.000', '233194', '', 'SBOL перевод 4276****4518 Ш. ЕЛЕНА ВЛАДИМИРОВНА', '', '', '', '']\n",
      "['2022-02-01T00:00:00.000', '10:29', '', 'Перевод с карты', '', '5 000,00', '', '37 749,59']\n",
      "['2022-02-01T00:00:00.000', '215982', '', 'SBOL перевод 2202****0202', '', '', '', '']\n"
     ]
    }
   ],
   "source": [
    "for row in rows1:\n",
    "    print(row)"
   ]
  },
  {
   "cell_type": "code",
   "execution_count": 14,
   "metadata": {},
   "outputs": [
    {
     "name": "stdout",
     "output_type": "stream",
     "text": [
      "d 2022-05-15 09:01:54  D:\\tmp\\Тесты_log\\test.xml \n"
     ]
    }
   ],
   "source": [
    "import os \n",
    "import json\n",
    "import pandas as pd\n",
    "\n",
    "\n",
    "if True:\n",
    "    file_name_input = 'D:\\\\tmp\\\\Тесты_log\\\\test.xml'\n",
    "    file_name_output = os.path.splitext(file_name_input)[0]+ '.json'\n",
    "\n",
    "    str = f\"d {dt.datetime.today().strftime('%Y-%m-%d %H:%M:%S')}  {file_name_input}\"\n",
    "    print(str)\n",
    "\n",
    "    with open(file_name_output, 'w') as write_file:\n",
    "        json.dump(str, write_file)\n",
    "    \n",
    "    df = pd.DataFrame().columns.to_list\n",
    "    # print(file_name_output)\n"
   ]
  },
  {
   "cell_type": "code",
   "execution_count": 8,
   "metadata": {},
   "outputs": [
    {
     "name": "stdout",
     "output_type": "stream",
     "text": [
      "<class 'time.struct_time'>\n",
      "2022-05-16 08:36:49.706413\n",
      "2022-05-16 08:36:49\n"
     ]
    },
    {
     "data": {
      "text/plain": [
       "1652679409.0"
      ]
     },
     "execution_count": 8,
     "metadata": {},
     "output_type": "execute_result"
    }
   ],
   "source": [
    "import datetime as dt, time\n",
    "\n",
    "t1 = dt.datetime.now()\n",
    "# t1.timetuple()\n",
    "sec = time.mktime(t1.timetuple())\n",
    "t2 = dt.datetime.fromtimestamp(sec)\n",
    "print(type(t1.timetuple()))\n",
    "print(t1)\n",
    "print(t2)\n",
    "sec\n"
   ]
  },
  {
   "cell_type": "code",
   "execution_count": 6,
   "metadata": {},
   "outputs": [
    {
     "name": "stdout",
     "output_type": "stream",
     "text": [
      "[[5 4 8 8]\n",
      " [6 8 0 6]\n",
      " [6 2 3 0]\n",
      " [7 0 7 4]\n",
      " [1 5 3 0]\n",
      " [3 7 9 2]]\n",
      "<class 'numpy.ndarray'>\n"
     ]
    }
   ],
   "source": [
    "import pandas as pd\n",
    "import numpy as np\n",
    "df = pd.DataFrame(\n",
    "    data=np.random.randint (\n",
    "        0, 10, (6,4)),\n",
    "    columns=[\"a\", \"b\", \"c\", \"d\"])\n",
    "nmp=df.to_numpy()\n",
    "print(nmp) \n",
    "print(type(nmp))"
   ]
  },
  {
   "cell_type": "code",
   "execution_count": 1,
   "metadata": {},
   "outputs": [
    {
     "data": {
      "text/plain": [
       "['d:\\\\IDE_prj\\\\project_KnowledgeBase\\\\personal_expenses\\\\modules',\n",
       " 'd:\\\\IDE_prj\\\\project_KnowledgeBase\\\\my_methods',\n",
       " 'd:\\\\IDE_prj\\\\project_KnowledgeBase\\\\personal_expenses',\n",
       " 'C:\\\\Users\\\\Александр\\\\AppData\\\\Local\\\\Programs\\\\Python\\\\Python39\\\\python39.zip',\n",
       " 'C:\\\\Users\\\\Александр\\\\AppData\\\\Local\\\\Programs\\\\Python\\\\Python39\\\\DLLs',\n",
       " 'C:\\\\Users\\\\Александр\\\\AppData\\\\Local\\\\Programs\\\\Python\\\\Python39\\\\lib',\n",
       " 'C:\\\\Users\\\\Александр\\\\AppData\\\\Local\\\\Programs\\\\Python\\\\Python39',\n",
       " '',\n",
       " 'C:\\\\Users\\\\Александр\\\\AppData\\\\Roaming\\\\Python\\\\Python39\\\\site-packages',\n",
       " 'C:\\\\Users\\\\Александр\\\\AppData\\\\Roaming\\\\Python\\\\Python39\\\\site-packages\\\\win32',\n",
       " 'C:\\\\Users\\\\Александр\\\\AppData\\\\Roaming\\\\Python\\\\Python39\\\\site-packages\\\\win32\\\\lib',\n",
       " 'C:\\\\Users\\\\Александр\\\\AppData\\\\Roaming\\\\Python\\\\Python39\\\\site-packages\\\\Pythonwin',\n",
       " 'C:\\\\Users\\\\Александр\\\\AppData\\\\Local\\\\Programs\\\\Python\\\\Python39\\\\lib\\\\site-packages']"
      ]
     },
     "execution_count": 1,
     "metadata": {},
     "output_type": "execute_result"
    }
   ],
   "source": [
    "def load_my_modules(prj_name=None, lst=None):\n",
    "\n",
    "    import sys, os\n",
    "\n",
    "    if prj_name==None:  prj_name = 'project_KnowledgeBase'       \n",
    "    if lst==None:       lst = [\n",
    "            '\\\\my_methods',\n",
    "            '\\\\personal_expenses\\\\modules'\n",
    "            # '\\\\qqq,',        \n",
    "    ]\n",
    "\n",
    "    # Получить текущую папку\n",
    "    cwd = os.getcwd()\n",
    "    prj_len = len(prj_name)\n",
    "    i1 = cwd.find(prj_name)\n",
    "    prj_dir = cwd[0:i1+prj_len]\n",
    "    # d:\\IDE_prj\\project_KnowledgeBase\n",
    "\n",
    "    # '\\' -> '\\\\'\n",
    "    if not prj_dir.find('\\\\\\\\'):\n",
    "        prj_dir = prj_dir.replace('\\\\', '\\\\\\\\')\n",
    "    \n",
    "    # Проверить наличие модулей в sys.path_hook\n",
    "    # Если отсутствют - добавить\n",
    "    for module_dir in lst:\n",
    "        module_dir = prj_dir + module_dir\n",
    "        if not module_dir in sys.path:\n",
    "            sys.path.insert(0, module_dir)\n",
    "    return sys.path\n",
    "load_my_modules()"
   ]
  },
  {
   "cell_type": "code",
   "execution_count": 118,
   "metadata": {},
   "outputs": [],
   "source": [
    "import os\n",
    "path = 'data_input/my_tickets_json'\n",
    "lst_files = os.listdir(path)\n",
    "for fn in lst_files:\n",
    "    save_json_to_database(fn)\n",
    "    break"
   ]
  },
  {
   "cell_type": "code",
   "execution_count": 8,
   "metadata": {},
   "outputs": [
    {
     "data": {
      "text/plain": [
       "'2022.05.05'"
      ]
     },
     "execution_count": 8,
     "metadata": {},
     "output_type": "execute_result"
    }
   ],
   "source": [
    "import datetime as dt\n",
    "dt.datetime.today().strftime(\"%Y.%m.%d\")"
   ]
  },
  {
   "cell_type": "code",
   "execution_count": 32,
   "metadata": {},
   "outputs": [
    {
     "name": "stdout",
     "output_type": "stream",
     "text": [
      "duplicate\n",
      "duplicate\n"
     ]
    }
   ],
   "source": [
    "import json\n",
    "import pandas as pd\n",
    "import datetime as dt\n",
    "from models import *\n",
    "import os, shutil\n",
    "\n",
    "\n",
    "\n",
    "def save_json_to_database(file_name, path_complete=None):\n",
    "\n",
    "    try:\n",
    "        with open(file_name, encoding='utf-8') as json_file:\n",
    "            data = json.load(json_file) #, cls= encoding='cp1251').\n",
    "            head=data[0]\n",
    "            items = head.pop('items')\n",
    "            df=pd.DataFrame(items)\n",
    "\n",
    "            # Проверить наличие чека в базе данных\n",
    "            dateTime = dt.datetime.fromtimestamp(head['dateTime'])\n",
    "            sel = FNS_Receipt.select().where(\n",
    "                        (FNS_Receipt.dateTime == dateTime)\n",
    "                      & (FNS_Receipt.fiscalSign >= head['fiscalSign']) \n",
    "            )\n",
    "            if len(sel) > 0:\n",
    "                return 'duplicate'        \n",
    "\n",
    "            # Запись в БД. Транзакции удаления/записи    \n",
    "            with db.atomic() as transaction:  # transaction.rollback()    \n",
    "\n",
    "                try:\n",
    "                    # записать чек (заголовок)                    \n",
    "                    # columns=[\"date\", \"date_account\", \"category\", \"name\", \"amount\", \"balance\"]\n",
    "                    rec = head\n",
    "                    receipt = FNS_Receipt(\n",
    "                            dateTime                = dt.datetime.fromtimestamp(rec['dateTime']),\n",
    "                            localDateTime           = dt.datetime.strptime(rec['localDateTime'], '%Y-%m-%dT%H:%M'),\n",
    "                            totalSum                = rec['totalSum']/100,\n",
    "                            user                    = rec['user'],\n",
    "                            retailPlaceAddress      = rec.pop('retailPlaceAddress', ''),\n",
    "                            userInn                 = rec['userInn'],\n",
    "                            requestNumber           = rec['requestNumber'],\n",
    "                            shiftNumber             = rec['shiftNumber'],\n",
    "                            operator                = rec['operator'],\n",
    "                            operationType           = rec['operationType'],\n",
    "                            cashTotalSum            = rec['cashTotalSum'],\n",
    "                            ecashTotalSum           = rec['ecashTotalSum'],\n",
    "                            kktRegId                = rec['kktRegId'],\n",
    "                            fiscalDriveNumber       = rec['fiscalDriveNumber'],\n",
    "                            fiscalDocumentNumber    = rec['fiscalDocumentNumber'],\n",
    "                            fiscalSign              = rec['fiscalSign'],\n",
    "                            nds18                   = rec.pop('nds18', ''),\n",
    "                            nds10                   = rec.pop('nds10', ''),\n",
    "                            code                    = rec['code'],\n",
    "                            fiscalDocumentFormatVer = rec['fiscalDocumentFormatVer'],\n",
    "                            retailPlace             = rec['retailPlace'],\n",
    "                            prepaidSum              = rec['prepaidSum'],\n",
    "                            creditSum               = rec['creditSum'],\n",
    "                            provisionSum            = rec['provisionSum'],\n",
    "                            taxationType            = rec['taxationType'],\n",
    "                    )\n",
    "                    receipt.save()\n",
    "\n",
    "\n",
    "                    # Записать номенклатуру покупок\n",
    "                    lst = []\n",
    "                    for i,ser in df.iterrows():\n",
    "                        rec = ser.to_dict()\n",
    "                        obj = FNS_Receipt_Product(\n",
    "                            receipt_id   = receipt.id,\n",
    "                            name         = rec['name'],        # object \n",
    "                            price        = rec['price']/100,   # int64  \n",
    "                            amount       = rec['sum']/100,     # int64  \n",
    "                            quantity     = rec['quantity'],    # float64\n",
    "                            paymentType  = rec.pop('paymentType', ''), # int64  \n",
    "                            productType  = rec.pop('productType', ''), # int64  \n",
    "                            nds          = '' #rec['nds'],         # int64  \n",
    "                        )\n",
    "                        lst.append(obj)\n",
    "                    FNS_Receipt_Product.bulk_create(lst, batch_size=999)\n",
    "                    \n",
    "                except Exception as e:                    \n",
    "                    print('При попытке сохранить в базу данных загруженные данные возникла ошибка')\n",
    "                    print(e)\n",
    "                    transaction.rollback()\n",
    "                    raise\n",
    "    except:\n",
    "        return 'fail'        \n",
    "    return 'Ok'      \n",
    "    \n",
    "path = 'data_input/my_tickets_json'\n",
    "path_complete = path + '/complete'\n",
    "lst_files = os.listdir(path, )\n",
    "for fn in lst_files:\n",
    "    if fn.endswith(\".json\"):\n",
    "        fn = path + '/' + fn\n",
    "        res = save_json_to_database(fn)        \n",
    "        print(res + ': ' + fn)\n",
    "\n",
    "        if res =='Ok' or res == 'duplicate':\n",
    "            os.replace(\n",
    "                    path + '/' + fn, \n",
    "                    path + '/completed' + '/' + fn)\n",
    "\n",
    "# save_json_to_database('data_input/my_tickets_json/20_04_2022_03_31_526596891682004009171.json')\n"
   ]
  },
  {
   "cell_type": "code",
   "execution_count": 40,
   "metadata": {},
   "outputs": [
    {
     "data": {
      "text/plain": [
       "True"
      ]
     },
     "execution_count": 40,
     "metadata": {},
     "output_type": "execute_result"
    }
   ],
   "source": [
    "db.close()"
   ]
  },
  {
   "cell_type": "code",
   "execution_count": 39,
   "metadata": {},
   "outputs": [
    {
     "name": "stdout",
     "output_type": "stream",
     "text": [
      "'Ok': 0\n",
      "'duplicate': 0\n",
      "'fail': 0\n"
     ]
    }
   ],
   "source": [
    "counts = {\n",
    "    'Ok': 0,\n",
    "    'duplicate': 0,\n",
    "    'fail': 0\n",
    "}\n",
    "\n",
    "mess = str(counts)[1:-1].replace(', ', '\\n')\n",
    "print(mess)"
   ]
  },
  {
   "cell_type": "code",
   "execution_count": 69,
   "metadata": {},
   "outputs": [],
   "source": [
    "import json\n",
    "\n",
    "# file_name = 'data_input/tests/test_01.json'\n",
    "file_name = 'data_input/tests/test_02_main.json'\n",
    "data=None\n",
    "\n",
    "with open(file_name, encoding='utf-8') as json_file:\n",
    "    data = json.load(json_file) #, cls= encoding='cp1251').\n",
    "\n",
    "head=data[0]\n",
    "items = head.pop('items')\n",
    "\n",
    "# for ind in head:\n",
    "#     print(f'{ind}: ',  head[ind])\n",
    "# print('------------')\n",
    "# print(items)\n",
    "# for ind in items:\n",
    "#     print(ind)\n"
   ]
  }
 ],
 "metadata": {
  "interpreter": {
   "hash": "6643e6ed50db0d59a33908eb86408b16df6c710e8c0d335ec4f1e3d889261d64"
  },
  "kernelspec": {
   "display_name": "Python 3.9.10 64-bit (system)",
   "language": "python",
   "name": "python3"
  },
  "language_info": {
   "codemirror_mode": {
    "name": "ipython",
    "version": 3
   },
   "file_extension": ".py",
   "mimetype": "text/x-python",
   "name": "python",
   "nbconvert_exporter": "python",
   "pygments_lexer": "ipython3",
   "version": "3.9.10"
  },
  "orig_nbformat": 4
 },
 "nbformat": 4,
 "nbformat_minor": 2
}
