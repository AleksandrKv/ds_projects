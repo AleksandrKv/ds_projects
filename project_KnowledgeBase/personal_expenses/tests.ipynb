{
 "cells": [
  {
   "cell_type": "code",
   "execution_count": 1,
   "metadata": {},
   "outputs": [
    {
     "data": {
      "text/plain": [
       "['d:\\\\IDE_prj\\\\project_KnowledgeBase\\\\personal_expenses\\\\modules',\n",
       " 'd:\\\\IDE_prj\\\\project_KnowledgeBase\\\\my_methods',\n",
       " 'd:\\\\IDE_prj\\\\project_KnowledgeBase\\\\personal_expenses',\n",
       " 'C:\\\\Users\\\\Александр\\\\AppData\\\\Local\\\\Programs\\\\Python\\\\Python39\\\\python39.zip',\n",
       " 'C:\\\\Users\\\\Александр\\\\AppData\\\\Local\\\\Programs\\\\Python\\\\Python39\\\\DLLs',\n",
       " 'C:\\\\Users\\\\Александр\\\\AppData\\\\Local\\\\Programs\\\\Python\\\\Python39\\\\lib',\n",
       " 'C:\\\\Users\\\\Александр\\\\AppData\\\\Local\\\\Programs\\\\Python\\\\Python39',\n",
       " '',\n",
       " 'C:\\\\Users\\\\Александр\\\\AppData\\\\Roaming\\\\Python\\\\Python39\\\\site-packages',\n",
       " 'C:\\\\Users\\\\Александр\\\\AppData\\\\Roaming\\\\Python\\\\Python39\\\\site-packages\\\\win32',\n",
       " 'C:\\\\Users\\\\Александр\\\\AppData\\\\Roaming\\\\Python\\\\Python39\\\\site-packages\\\\win32\\\\lib',\n",
       " 'C:\\\\Users\\\\Александр\\\\AppData\\\\Roaming\\\\Python\\\\Python39\\\\site-packages\\\\Pythonwin',\n",
       " 'C:\\\\Users\\\\Александр\\\\AppData\\\\Local\\\\Programs\\\\Python\\\\Python39\\\\lib\\\\site-packages']"
      ]
     },
     "execution_count": 1,
     "metadata": {},
     "output_type": "execute_result"
    }
   ],
   "source": [
    "def load_my_modules(prj_name=None, lst=None):\n",
    "\n",
    "    import sys, os\n",
    "\n",
    "    if prj_name==None:  prj_name = 'project_KnowledgeBase'       \n",
    "    if lst==None:       lst = [\n",
    "            '\\\\my_methods',\n",
    "            '\\\\personal_expenses\\\\modules'\n",
    "            # '\\\\qqq,',        \n",
    "    ]\n",
    "\n",
    "    # Получить текущую папку\n",
    "    cwd = os.getcwd()\n",
    "    prj_len = len(prj_name)\n",
    "    i1 = cwd.find(prj_name)\n",
    "    prj_dir = cwd[0:i1+prj_len]\n",
    "    # d:\\IDE_prj\\project_KnowledgeBase\n",
    "\n",
    "    # '\\' -> '\\\\'\n",
    "    if not prj_dir.find('\\\\\\\\'):\n",
    "        prj_dir = prj_dir.replace('\\\\', '\\\\\\\\')\n",
    "    \n",
    "    # Проверить наличие модулей в sys.path_hook\n",
    "    # Если отсутствют - добавить\n",
    "    for module_dir in lst:\n",
    "        module_dir = prj_dir + module_dir\n",
    "        if not module_dir in sys.path:\n",
    "            sys.path.insert(0, module_dir)\n",
    "    return sys.path\n",
    "load_my_modules()"
   ]
  },
  {
   "cell_type": "code",
   "execution_count": 118,
   "metadata": {},
   "outputs": [],
   "source": [
    "import os\n",
    "path = 'data_input/my_tickets_json'\n",
    "lst_files = os.listdir(path)\n",
    "for fn in lst_files:\n",
    "    save_json_to_database(fn)\n",
    "    break"
   ]
  },
  {
   "cell_type": "code",
   "execution_count": 8,
   "metadata": {},
   "outputs": [
    {
     "name": "stdout",
     "output_type": "stream",
     "text": [
      "При попытке сохранить в базу данных загруженные данные возникла ошибка\n",
      "'nds18'\n"
     ]
    },
    {
     "data": {
      "text/plain": [
       "'data_input/my_tickets_json/20_04_2022_01_31_397657834228145796699.json - fail'"
      ]
     },
     "execution_count": 8,
     "metadata": {},
     "output_type": "execute_result"
    },
    {
     "ename": "KeyboardInterrupt",
     "evalue": "",
     "output_type": "error",
     "traceback": [
      "\u001b[1;31m---------------------------------------------------------------------------\u001b[0m",
      "\u001b[1;31mKeyboardInterrupt\u001b[0m                         Traceback (most recent call last)",
      "    \u001b[1;31m[... skipping hidden 1 frame]\u001b[0m\n",
      "File \u001b[1;32m_pydevd_bundle/pydevd_cython.pyx:1505\u001b[0m, in \u001b[0;36m_pydevd_bundle.pydevd_cython.trace_dispatch\u001b[1;34m()\u001b[0m\n",
      "File \u001b[1;32m~\\AppData\\Roaming\\Python\\Python39\\site-packages\\debugpy\\_vendored\\pydevd\\pydevd.py:1066\u001b[0m, in \u001b[0;36mPyDB.enable_tracing\u001b[1;34m(self, thread_trace_func, apply_to_all_threads)\u001b[0m\n\u001b[0;32m   <a href='file:///c%3A/Users/%D0%90%D0%BB%D0%B5%D0%BA%D1%81%D0%B0%D0%BD%D0%B4%D1%80/AppData/Roaming/Python/Python39/site-packages/debugpy/_vendored/pydevd/pydevd.py?line=1062'>1063</a>\u001b[0m     \u001b[39melse\u001b[39;00m:\n\u001b[0;32m   <a href='file:///c%3A/Users/%D0%90%D0%BB%D0%B5%D0%BA%D1%81%D0%B0%D0%BD%D0%B4%D1%80/AppData/Roaming/Python/Python39/site-packages/debugpy/_vendored/pydevd/pydevd.py?line=1063'>1064</a>\u001b[0m         \u001b[39mself\u001b[39m\u001b[39m.\u001b[39m_local_thread_trace_func\u001b[39m.\u001b[39mthread_trace_func \u001b[39m=\u001b[39m thread_trace_func\n\u001b[1;32m-> <a href='file:///c%3A/Users/%D0%90%D0%BB%D0%B5%D0%BA%D1%81%D0%B0%D0%BD%D0%B4%D1%80/AppData/Roaming/Python/Python39/site-packages/debugpy/_vendored/pydevd/pydevd.py?line=1065'>1066</a>\u001b[0m pydevd_tracing\u001b[39m.\u001b[39;49mSetTrace(thread_trace_func)\n\u001b[0;32m   <a href='file:///c%3A/Users/%D0%90%D0%BB%D0%B5%D0%BA%D1%81%D0%B0%D0%BD%D0%B4%D1%80/AppData/Roaming/Python/Python39/site-packages/debugpy/_vendored/pydevd/pydevd.py?line=1066'>1067</a>\u001b[0m \u001b[39mif\u001b[39;00m IS_CPYTHON \u001b[39mand\u001b[39;00m apply_to_all_threads:\n\u001b[0;32m   <a href='file:///c%3A/Users/%D0%90%D0%BB%D0%B5%D0%BA%D1%81%D0%B0%D0%BD%D0%B4%D1%80/AppData/Roaming/Python/Python39/site-packages/debugpy/_vendored/pydevd/pydevd.py?line=1067'>1068</a>\u001b[0m     pydevd_tracing\u001b[39m.\u001b[39mset_trace_to_threads(thread_trace_func)\n",
      "File \u001b[1;32m~\\AppData\\Roaming\\Python\\Python39\\site-packages\\debugpy\\_vendored\\pydevd\\pydevd_tracing.py:83\u001b[0m, in \u001b[0;36mSetTrace\u001b[1;34m(tracing_func)\u001b[0m\n\u001b[0;32m     <a href='file:///c%3A/Users/%D0%90%D0%BB%D0%B5%D0%BA%D1%81%D0%B0%D0%BD%D0%B4%D1%80/AppData/Roaming/Python/Python39/site-packages/debugpy/_vendored/pydevd/pydevd_tracing.py?line=80'>81</a>\u001b[0m \u001b[39mdef\u001b[39;00m \u001b[39mSetTrace\u001b[39m(tracing_func):\n\u001b[0;32m     <a href='file:///c%3A/Users/%D0%90%D0%BB%D0%B5%D0%BA%D1%81%D0%B0%D0%BD%D0%B4%D1%80/AppData/Roaming/Python/Python39/site-packages/debugpy/_vendored/pydevd/pydevd_tracing.py?line=81'>82</a>\u001b[0m     \u001b[39mif\u001b[39;00m tracing_func \u001b[39mis\u001b[39;00m \u001b[39mnot\u001b[39;00m \u001b[39mNone\u001b[39;00m:\n\u001b[1;32m---> <a href='file:///c%3A/Users/%D0%90%D0%BB%D0%B5%D0%BA%D1%81%D0%B0%D0%BD%D0%B4%D1%80/AppData/Roaming/Python/Python39/site-packages/debugpy/_vendored/pydevd/pydevd_tracing.py?line=82'>83</a>\u001b[0m         \u001b[39mif\u001b[39;00m set_trace_to_threads(tracing_func, thread_idents\u001b[39m=\u001b[39;49m[thread\u001b[39m.\u001b[39;49mget_ident()], create_dummy_thread\u001b[39m=\u001b[39;49m\u001b[39mFalse\u001b[39;49;00m) \u001b[39m==\u001b[39m \u001b[39m0\u001b[39m:\n\u001b[0;32m     <a href='file:///c%3A/Users/%D0%90%D0%BB%D0%B5%D0%BA%D1%81%D0%B0%D0%BD%D0%B4%D1%80/AppData/Roaming/Python/Python39/site-packages/debugpy/_vendored/pydevd/pydevd_tracing.py?line=83'>84</a>\u001b[0m             \u001b[39m# If we can use our own tracer instead of the one from sys.settrace, do it (the reason\u001b[39;00m\n\u001b[0;32m     <a href='file:///c%3A/Users/%D0%90%D0%BB%D0%B5%D0%BA%D1%81%D0%B0%D0%BD%D0%B4%D1%80/AppData/Roaming/Python/Python39/site-packages/debugpy/_vendored/pydevd/pydevd_tracing.py?line=84'>85</a>\u001b[0m             \u001b[39m# is that this is faster than the Python version because we don't call\u001b[39;00m\n\u001b[0;32m     <a href='file:///c%3A/Users/%D0%90%D0%BB%D0%B5%D0%BA%D1%81%D0%B0%D0%BD%D0%B4%D1%80/AppData/Roaming/Python/Python39/site-packages/debugpy/_vendored/pydevd/pydevd_tracing.py?line=85'>86</a>\u001b[0m             \u001b[39m# PyFrame_FastToLocalsWithError and PyFrame_LocalsToFast at each event!\u001b[39;00m\n\u001b[0;32m     <a href='file:///c%3A/Users/%D0%90%D0%BB%D0%B5%D0%BA%D1%81%D0%B0%D0%BD%D0%B4%D1%80/AppData/Roaming/Python/Python39/site-packages/debugpy/_vendored/pydevd/pydevd_tracing.py?line=86'>87</a>\u001b[0m             \u001b[39m# (the difference can be huge when checking line events on frames as the\u001b[39;00m\n\u001b[0;32m     <a href='file:///c%3A/Users/%D0%90%D0%BB%D0%B5%D0%BA%D1%81%D0%B0%D0%BD%D0%B4%D1%80/AppData/Roaming/Python/Python39/site-packages/debugpy/_vendored/pydevd/pydevd_tracing.py?line=87'>88</a>\u001b[0m             \u001b[39m# time increases based on the number of local variables in the scope)\u001b[39;00m\n\u001b[0;32m     <a href='file:///c%3A/Users/%D0%90%D0%BB%D0%B5%D0%BA%D1%81%D0%B0%D0%BD%D0%B4%D1%80/AppData/Roaming/Python/Python39/site-packages/debugpy/_vendored/pydevd/pydevd_tracing.py?line=88'>89</a>\u001b[0m             \u001b[39m# See: InternalCallTrampoline (on the C side) for details.\u001b[39;00m\n\u001b[0;32m     <a href='file:///c%3A/Users/%D0%90%D0%BB%D0%B5%D0%BA%D1%81%D0%B0%D0%BD%D0%B4%D1%80/AppData/Roaming/Python/Python39/site-packages/debugpy/_vendored/pydevd/pydevd_tracing.py?line=89'>90</a>\u001b[0m             \u001b[39mreturn\u001b[39;00m\n\u001b[0;32m     <a href='file:///c%3A/Users/%D0%90%D0%BB%D0%B5%D0%BA%D1%81%D0%B0%D0%BD%D0%B4%D1%80/AppData/Roaming/Python/Python39/site-packages/debugpy/_vendored/pydevd/pydevd_tracing.py?line=91'>92</a>\u001b[0m     \u001b[39m# If it didn't work (or if it was None), use the Python version.\u001b[39;00m\n",
      "File \u001b[1;32m~\\AppData\\Roaming\\Python\\Python39\\site-packages\\debugpy\\_vendored\\pydevd\\pydevd_tracing.py:345\u001b[0m, in \u001b[0;36mset_trace_to_threads\u001b[1;34m(tracing_func, thread_idents, create_dummy_thread)\u001b[0m\n\u001b[0;32m    <a href='file:///c%3A/Users/%D0%90%D0%BB%D0%B5%D0%BA%D1%81%D0%B0%D0%BD%D0%B4%D1%80/AppData/Roaming/Python/Python39/site-packages/debugpy/_vendored/pydevd/pydevd_tracing.py?line=342'>343</a>\u001b[0m start_new_thread \u001b[39m=\u001b[39m pydev_monkey\u001b[39m.\u001b[39mget_original_start_new_thread(thread)\n\u001b[0;32m    <a href='file:///c%3A/Users/%D0%90%D0%BB%D0%B5%D0%BA%D1%81%D0%B0%D0%BD%D0%B4%D1%80/AppData/Roaming/Python/Python39/site-packages/debugpy/_vendored/pydevd/pydevd_tracing.py?line=343'>344</a>\u001b[0m start_new_thread(increase_tracing_count, ())\n\u001b[1;32m--> <a href='file:///c%3A/Users/%D0%90%D0%BB%D0%B5%D0%BA%D1%81%D0%B0%D0%BD%D0%B4%D1%80/AppData/Roaming/Python/Python39/site-packages/debugpy/_vendored/pydevd/pydevd_tracing.py?line=344'>345</a>\u001b[0m proceed\u001b[39m.\u001b[39;49macquire()  \u001b[39m# Only proceed after the release() is done.\u001b[39;00m\n\u001b[0;32m    <a href='file:///c%3A/Users/%D0%90%D0%BB%D0%B5%D0%BA%D1%81%D0%B0%D0%BD%D0%B4%D1%80/AppData/Roaming/Python/Python39/site-packages/debugpy/_vendored/pydevd/pydevd_tracing.py?line=345'>346</a>\u001b[0m proceed \u001b[39m=\u001b[39m \u001b[39mNone\u001b[39;00m\n\u001b[0;32m    <a href='file:///c%3A/Users/%D0%90%D0%BB%D0%B5%D0%BA%D1%81%D0%B0%D0%BD%D0%B4%D1%80/AppData/Roaming/Python/Python39/site-packages/debugpy/_vendored/pydevd/pydevd_tracing.py?line=347'>348</a>\u001b[0m \u001b[39m# Note: The set_trace_func is not really used anymore in the C side.\u001b[39;00m\n",
      "\u001b[1;31mKeyboardInterrupt\u001b[0m: "
     ]
    }
   ],
   "source": [
    "import json\n",
    "import pandas as pd\n",
    "import datetime as dt\n",
    "from models import *\n",
    "import os\n",
    "\n",
    "\n",
    "def save_json_to_database(file_name):\n",
    "\n",
    "    try:\n",
    "        with open(file_name, encoding='utf-8') as json_file:\n",
    "            data = json.load(json_file) #, cls= encoding='cp1251').\n",
    "            head=data[0]\n",
    "            items = head.pop('items')\n",
    "            df=pd.DataFrame(items)\n",
    "\n",
    "            # Запись в БД. Транзакции удаления/записи    \n",
    "            with db.atomic() as transaction:  # transaction.rollback()    \n",
    "                try:\n",
    "                    # записать чек (заголовок)                    \n",
    "                    # columns=[\"date\", \"date_account\", \"category\", \"name\", \"amount\", \"balance\"]\n",
    "                    rec = head\n",
    "                    receipt = FNS_Receipt(\n",
    "                            dateTime              = dt.datetime.fromtimestamp(rec['dateTime']),\n",
    "                            localDateTime         = dt.datetime.strptime(rec['localDateTime'], '%Y-%m-%dT%H:%M'),\n",
    "                            totalSum              = rec['totalSum']/100,\n",
    "                            user                  = rec['user'],\n",
    "                            retailPlaceAddress    = rec['retailPlaceAddress'],\n",
    "                            userInn               = rec['userInn'],\n",
    "                            requestNumber         = rec['requestNumber'],\n",
    "                            shiftNumber           = rec['shiftNumber'],\n",
    "                            operator              = rec['operator'],\n",
    "                            operationType         = rec['operationType'],\n",
    "                            cashTotalSum          = rec['cashTotalSum'],\n",
    "                            ecashTotalSum         = rec['ecashTotalSum'],\n",
    "                            kktRegId              = rec['kktRegId'],\n",
    "                            fiscalDriveNumber     = rec['fiscalDriveNumber'],\n",
    "                            fiscalDocumentNumber  = rec['fiscalDocumentNumber'],\n",
    "                            fiscalSign            = rec['fiscalSign'],\n",
    "                            nds18                 = '', #rec['nds18'],\n",
    "                            nds10                 = '', #rec['nds10'],\n",
    "                            code                  = rec['code'],\n",
    "                            fiscalDocumentFormatVer = rec['fiscalDocumentFormatVer'],\n",
    "                            retailPlace             = rec['retailPlace'],\n",
    "                            prepaidSum              = rec['prepaidSum'],\n",
    "                            creditSum               = rec['creditSum'],\n",
    "                            provisionSum            = rec['provisionSum'],\n",
    "                            taxationType            = rec['taxationType'],\n",
    "                    )\n",
    "                    receipt.save()\n",
    "\n",
    "                    # Записать номенклатуру покупок\n",
    "                    lst = []\n",
    "                    for i,rec in df.iterrows():\n",
    "                        obj = FNS_Receipt_Product(\n",
    "                            receipt_id   = receipt.id,\n",
    "                            name         = rec['name'],        # object \n",
    "                            price        = rec['price']/100,   # int64  \n",
    "                            amount       = rec['sum']/100,     # int64  \n",
    "                            quantity     = rec['quantity'],    # float64\n",
    "                            paymentType  = rec['paymentType'], # int64  \n",
    "                            productType  = rec['productType'], # int64  \n",
    "                            nds          = '' #rec['nds'],         # int64  \n",
    "                        )\n",
    "                        lst.append(obj)\n",
    "                    FNS_Receipt_Product.bulk_create(lst, batch_size=999)\n",
    "                    \n",
    "                except Exception as e:                    \n",
    "                    print('При попытке сохранить в базу данных загруженные данные возникла ошибка')\n",
    "                    print(e)\n",
    "                    transaction.rollback()\n",
    "                    raise\n",
    "    except:\n",
    "        return file_name + ' - fail'        \n",
    "    return file_name + ' - Ok'      \n",
    "\n",
    "# path = 'data_input/my_tickets_json'\n",
    "# lst_files = os.listdir(path)\n",
    "# for fn in lst_files:\n",
    "#     res = save_json_to_database(path + '/' + fn)\n",
    "#     print(res)\n",
    "\n",
    "save_json_to_database('data_input/my_tickets_json/20_04_2022_01_31_397657834228145796699.json')\n"
   ]
  },
  {
   "cell_type": "code",
   "execution_count": 6,
   "metadata": {},
   "outputs": [
    {
     "data": {
      "text/plain": [
       "False"
      ]
     },
     "execution_count": 6,
     "metadata": {},
     "output_type": "execute_result"
    }
   ],
   "source": [
    "db.close()"
   ]
  },
  {
   "cell_type": "code",
   "execution_count": 69,
   "metadata": {},
   "outputs": [],
   "source": [
    "import json\n",
    "\n",
    "# file_name = 'data_input/tests/test_01.json'\n",
    "file_name = 'data_input/tests/test_02_main.json'\n",
    "data=None\n",
    "\n",
    "with open(file_name, encoding='utf-8') as json_file:\n",
    "    data = json.load(json_file) #, cls= encoding='cp1251').\n",
    "\n",
    "head=data[0]\n",
    "items = head.pop('items')\n",
    "\n",
    "# for ind in head:\n",
    "#     print(f'{ind}: ',  head[ind])\n",
    "# print('------------')\n",
    "# print(items)\n",
    "# for ind in items:\n",
    "#     print(ind)\n"
   ]
  }
 ],
 "metadata": {
  "interpreter": {
   "hash": "fa7101e1e1ee3ae4bb10ad32c530cd9a5b0e50fd40fba62a7aee72638d4b75ed"
  },
  "kernelspec": {
   "display_name": "Python 3.9.10 64-bit (system)",
   "language": "python",
   "name": "python3"
  },
  "language_info": {
   "codemirror_mode": {
    "name": "ipython",
    "version": 3
   },
   "file_extension": ".py",
   "mimetype": "text/x-python",
   "name": "python",
   "nbconvert_exporter": "python",
   "pygments_lexer": "ipython3",
   "version": "3.9.10"
  },
  "orig_nbformat": 4
 },
 "nbformat": 4,
 "nbformat_minor": 2
}
